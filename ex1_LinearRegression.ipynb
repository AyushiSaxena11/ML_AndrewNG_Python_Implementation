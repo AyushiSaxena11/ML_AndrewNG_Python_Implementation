{
 "cells": [
  {
   "cell_type": "markdown",
   "metadata": {},
   "source": [
    "# **Machine Learning ex-1(Python)**"
   ]
  },
  {
   "cell_type": "markdown",
   "metadata": {},
   "source": [
    "<bold><p><span style=\"font-family: Arial; font-size:1.4em;color:blue;\">Univariate Linear Regression </p></bold>"
   ]
  },
  {
   "cell_type": "code",
   "execution_count": 2,
   "metadata": {},
   "outputs": [],
   "source": [
    "import numpy as np\n",
    "import pandas as pd\n",
    "import matplotlib.pyplot as plt\n",
    "from numpy.linalg import matrix_rank"
   ]
  },
  {
   "cell_type": "code",
   "execution_count": 3,
   "metadata": {},
   "outputs": [],
   "source": [
    "def read_data(dataset):\n",
    "    data = pd.read_csv(dataset, header = None)\n",
    "    data.head()\n",
    "    X = data.iloc[:, 0].values\n",
    "    y = data.iloc[:, 1].values\n",
    "    m = len(y)\n",
    "    return X, y, m\n",
    "X, y, m = read_data('ex1data1.txt')"
   ]
  },
  {
   "cell_type": "markdown",
   "metadata": {},
   "source": [
    "# *Plotting Data*"
   ]
  },
  {
   "cell_type": "code",
   "execution_count": 4,
   "metadata": {},
   "outputs": [
    {
     "data": {
      "image/png": "[encoded data removed]",
      "text/plain": [
       "<Figure size 432x288 with 1 Axes>"
      ]
     },
     "metadata": {
      "needs_background": "light"
     },
     "output_type": "display_data"
    }
   ],
   "source": [
    "def plotData(X, y):\n",
    "    plt.scatter(X, y, label='scatter', marker='8', c='b', s=10, alpha=1)\n",
    "    plt.xlabel('Population of city in 10,000s')\n",
    "    plt.ylabel('Profit in $10,000s')\n",
    "    plt.title(\"Raw Data\")\n",
    "    plt.show()\n",
    "    \n",
    "plotData(X, y)"
   ]
  },
  {
   "cell_type": "markdown",
   "metadata": {},
   "source": [
    "#  *Initializing parameters and adding intercept term*"
   ]
  },
  {
   "cell_type": "code",
   "execution_count": 5,
   "metadata": {},
   "outputs": [],
   "source": [
    "def initialize(X, y, dims, alpha_, iterations_):\n",
    "    if(matrix_rank(X) == 1):\n",
    "        X = X[:, np.newaxis]\n",
    "    if(matrix_rank(y) == 1):\n",
    "        y = y[:, np.newaxis]\n",
    "    m = len(y)\n",
    "    theta = np.zeros(dims)\n",
    "    ones = np.ones((m,1))\n",
    "    X = np.hstack((ones,X))\n",
    "    alpha = alpha_\n",
    "    iterations = iterations_\n",
    "    return X, y, theta, alpha, iterations"
   ]
  },
  {
   "cell_type": "code",
   "execution_count": 6,
   "metadata": {},
   "outputs": [
    {
     "name": "stdout",
     "output_type": "stream",
     "text": [
      "Shape of X is: (97, 2)\n",
      "Shape of y is: (97, 1)\n",
      "Initial theta is:[[0.]\n",
      " [0.]]\n"
     ]
    }
   ],
   "source": [
    "X, y, theta, alpha, iterations = initialize(X, y, dims=[2,1], alpha_=0.01, iterations_=1500)\n",
    "print(\"Shape of X is: \" + str(X.shape))\n",
    "print(\"Shape of y is: \" + str(y.shape))\n",
    "print(\"Initial theta is:\" + str(theta))"
   ]
  },
  {
   "cell_type": "markdown",
   "metadata": {},
   "source": [
    "# *Compute Cost*"
   ]
  },
  {
   "cell_type": "code",
   "execution_count": 7,
   "metadata": {},
   "outputs": [
    {
     "data": {
      "text/plain": [
       "32.072733877455676"
      ]
     },
     "execution_count": 7,
     "metadata": {},
     "output_type": "execute_result"
    }
   ],
   "source": [
    "def computeCost(X, y, theta):\n",
    "    m = len(y)\n",
    "    J = (1/2) * (np.mean(np.power((np.matmul(X,theta)) - y, 2)))\n",
    "    return J\n",
    "J = computeCost(X, y, theta)\n",
    "J"
   ]
  },
  {
   "cell_type": "markdown",
   "metadata": {},
   "source": [
    "# *Implementing Gradient Descent*"
   ]
  },
  {
   "cell_type": "code",
   "execution_count": 8,
   "metadata": {
    "scrolled": true
   },
   "outputs": [
    {
     "data": {
      "text/plain": [
       "array([[-3.63029144],\n",
       "       [ 1.16636235]])"
      ]
     },
     "execution_count": 8,
     "metadata": {},
     "output_type": "execute_result"
    }
   ],
   "source": [
    "def gradientDescent(X, y, theta, alpha, num_iters):\n",
    "    m = len(y)\n",
    "    J_history = np.zeros([num_iters, 1])\n",
    "    for iter in range(num_iters):\n",
    "        error = np.dot(X, theta) - y\n",
    "        temp = np.dot(X.T, error)\n",
    "        theta = theta - (alpha/m) * temp\n",
    "        J_history[iter] = computeCost(X, y, theta)\n",
    "    return theta, J_history\n",
    "\n",
    "theta, J_history = gradientDescent(X, y, theta, alpha, iterations)\n",
    "theta"
   ]
  },
  {
   "cell_type": "code",
   "execution_count": 9,
   "metadata": {},
   "outputs": [],
   "source": [
    "def showPredictedPlot(X, y, theta):\n",
    "    plt.scatter(X[:,1], y)\n",
    "    plt.plot(X[:,1], np.dot(X,theta))\n",
    "    plt.title('Raw Data + Linear Fit')\n",
    "    plt.xlabel('Population of city in 10,000s')\n",
    "    plt.ylabel('Profit in $10,000s')\n",
    "    plt.show()"
   ]
  },
  {
   "cell_type": "code",
   "execution_count": 10,
   "metadata": {},
   "outputs": [
    {
     "data": {
      "image/png": "[encoded data removed]",
      "text/plain": [
       "<Figure size 432x288 with 1 Axes>"
      ]
     },
     "metadata": {
      "needs_background": "light"
     },
     "output_type": "display_data"
    }
   ],
   "source": [
    "showPredictedPlot(X, y, theta)"
   ]
  },
  {
   "cell_type": "markdown",
   "metadata": {},
   "source": [
    "<bold><p><span style=\"font-family: Arial; font-size:1.4em;color:blue;\">Multiivariate Linear Regression </p></bold>"
   ]
  },
  {
   "cell_type": "markdown",
   "metadata": {},
   "source": [
    "# *Reading dataset*"
   ]
  },
  {
   "cell_type": "code",
   "execution_count": 11,
   "metadata": {},
   "outputs": [],
   "source": [
    "def read_data(dataset):\n",
    "    data = pd.read_csv(dataset, sep=',', header=None)\n",
    "    X = data.iloc[:,0:2].values\n",
    "    y = data.iloc[:,2].values\n",
    "    return X, y"
   ]
  },
  {
   "cell_type": "code",
   "execution_count": 12,
   "metadata": {},
   "outputs": [],
   "source": [
    "X, y = read_data('ex1data2.txt')"
   ]
  },
  {
   "cell_type": "markdown",
   "metadata": {},
   "source": [
    "# *Feature Normalisation*"
   ]
  },
  {
   "cell_type": "code",
   "execution_count": 13,
   "metadata": {},
   "outputs": [],
   "source": [
    "def featureNormalization(X):\n",
    "    mu = np.mean(X, axis=0)\n",
    "    sigma = np.std(X, axis=0)\n",
    "    X = (X-mu)/sigma\n",
    "    return X, mu, sigma"
   ]
  },
  {
   "cell_type": "code",
   "execution_count": 14,
   "metadata": {},
   "outputs": [],
   "source": [
    "X, mu, sigma = featureNormalization(X) "
   ]
  },
  {
   "cell_type": "markdown",
   "metadata": {},
   "source": [
    "#  *Initializing parameters and adding intercept term*"
   ]
  },
  {
   "cell_type": "code",
   "execution_count": 15,
   "metadata": {},
   "outputs": [
    {
     "name": "stdout",
     "output_type": "stream",
     "text": [
      "Shape of X is: (47, 3)\n",
      "Shape of y is: (47, 1)\n",
      "Initial theta is: [[0.]\n",
      " [0.]\n",
      " [0.]]\n"
     ]
    }
   ],
   "source": [
    "X, y, theta, alpha, iterations = initialize(X, y, dims=[3,1], alpha_=0.01, iterations_=400)\n",
    "print(\"Shape of X is: \" + str(X.shape))\n",
    "print(\"Shape of y is: \" + str(y.shape))\n",
    "print(\"Initial theta is: \" + str(theta))"
   ]
  },
  {
   "cell_type": "markdown",
   "metadata": {},
   "source": [
    "# *Compute Cost*"
   ]
  },
  {
   "cell_type": "code",
   "execution_count": 16,
   "metadata": {},
   "outputs": [
    {
     "data": {
      "text/plain": [
       "65591548106.45744"
      ]
     },
     "execution_count": 16,
     "metadata": {},
     "output_type": "execute_result"
    }
   ],
   "source": [
    "def computeCostMulti(X, y, theta):\n",
    "    m = y.shape[0]\n",
    "    J = (1/2)*(np.mean(np.power((np.matmul(X, theta))-y, 2)))\n",
    "    return J\n",
    "J = computeCostMulti(X, y, theta)\n",
    "J"
   ]
  },
  {
   "cell_type": "markdown",
   "metadata": {},
   "source": [
    "# *Gradient Descent*"
   ]
  },
  {
   "cell_type": "code",
   "execution_count": 19,
   "metadata": {
    "scrolled": false
   },
   "outputs": [
    {
     "data": {
      "text/plain": [
       "array([[340302.97100295],\n",
       "       [107744.19899198],\n",
       "       [ -4875.11193358]])"
      ]
     },
     "execution_count": 19,
     "metadata": {},
     "output_type": "execute_result"
    }
   ],
   "source": [
    "def gradientDescentMulti(X, y, theta, alpha, num_iters):\n",
    "    m = y.shape[0]\n",
    "    J_history = np.zeros([num_iters, 1])\n",
    "    for iter in range(0, num_iters):\n",
    "        error = np.dot(X, theta) - y\n",
    "        temp = np.dot(X.T, error)\n",
    "        theta = theta - (alpha/m) * temp\n",
    "        J_history[iter] = computeCostMulti(X, y, theta)\n",
    "    return theta, J_history\n",
    "theta, J_history = gradientDescentMulti(X, y, theta, alpha, iterations)\n",
    "theta"
   ]
  },
  {
   "cell_type": "code",
   "execution_count": 20,
   "metadata": {},
   "outputs": [
    {
     "name": "stdout",
     "output_type": "stream",
     "text": [
      "2044562883.3693335\n"
     ]
    }
   ],
   "source": [
    "print(computeCostMulti(X, y, theta))"
   ]
  },
  {
   "cell_type": "code",
   "execution_count": 21,
   "metadata": {},
   "outputs": [
    {
     "data": {
      "image/png": "[encoded data removed]",
      "text/plain": [
       "<Figure size 432x288 with 1 Axes>"
      ]
     },
     "metadata": {
      "needs_background": "light"
     },
     "output_type": "display_data"
    }
   ],
   "source": [
    "plt.plot(range(0, 400), J_history, color='blue', linestyle='solid')\n",
    "plt.xlabel('Iterations')\n",
    "plt.ylabel('Cost J')\n",
    "plt.show()"
   ]
  },
  {
   "cell_type": "markdown",
   "metadata": {},
   "source": [
    "#  *Normal  Equation*"
   ]
  },
  {
   "cell_type": "code",
   "execution_count": 22,
   "metadata": {},
   "outputs": [],
   "source": [
    "def read_data(dataset):\n",
    "    data = pd.read_csv(dataset, sep=',', header=None)\n",
    "    X = data.iloc[:,0:2].values\n",
    "    y = data.iloc[:,2].values\n",
    "    m = len(y)\n",
    "    return X,y\n",
    "X, y = read_data('ex1data2.txt')"
   ]
  },
  {
   "cell_type": "code",
   "execution_count": 23,
   "metadata": {},
   "outputs": [
    {
     "name": "stdout",
     "output_type": "stream",
     "text": [
      "Shape of X is: (47, 3)\n",
      "Shape of y is: (47, 1)\n",
      "Initial theta is: [[0.]\n",
      " [0.]\n",
      " [0.]]\n"
     ]
    }
   ],
   "source": [
    "X, y, theta, alpha, iterations = initialize(X, y, dims=[3,1], alpha_=0.01, iterations_=1500)\n",
    "print(\"Shape of X is: \" + str(X.shape))\n",
    "print(\"Shape of y is: \" + str(y.shape))\n",
    "print(\"Initial theta is: \" + str(theta))"
   ]
  },
  {
   "cell_type": "code",
   "execution_count": 24,
   "metadata": {},
   "outputs": [
    {
     "data": {
      "text/plain": [
       "array([[89597.9095428 ],\n",
       "       [  139.21067402],\n",
       "       [-8738.01911233]])"
      ]
     },
     "execution_count": 24,
     "metadata": {},
     "output_type": "execute_result"
    }
   ],
   "source": [
    "def normal_equation(x, y):\n",
    "    return np.dot(np.linalg.inv(np.dot(x.T, x)), np.dot(x.T, y))\n",
    "theta = normal_equation(X,y)\n",
    "theta"
   ]
  },
  {
   "cell_type": "code",
   "execution_count": 25,
   "metadata": {},
   "outputs": [
    {
     "name": "stdout",
     "output_type": "stream",
     "text": [
      "[230854.29304901]\n"
     ]
    }
   ],
   "source": [
    "#Prediction\n",
    "X_new = X[46]\n",
    "print(np.dot(theta.T, X_new))"
   ]
  },
  {
   "cell_type": "code",
   "execution_count": 26,
   "metadata": {},
   "outputs": [
    {
     "name": "stdout",
     "output_type": "stream",
     "text": [
      "[306756.3637394]\n"
     ]
    }
   ],
   "source": [
    "#Prediction\n",
    "r = np.array([1, 1811, 4])\n",
    "print(np.matmul(r, theta))"
   ]
  }
 ],
 "metadata": {
  "kernelspec": {
   "display_name": "Python 3",
   "language": "python",
   "name": "python3"
  },
  "language_info": {
   "codemirror_mode": {
    "name": "ipython",
    "version": 3
   },
   "file_extension": ".py",
   "mimetype": "text/x-python",
   "name": "python",
   "nbconvert_exporter": "python",
   "pygments_lexer": "ipython3",
   "version": "3.7.3"
  }
 },
 "nbformat": 4,
 "nbformat_minor": 2
}
